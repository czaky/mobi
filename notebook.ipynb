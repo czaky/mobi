{
 "cells": [
  {
   "cell_type": "code",
   "execution_count": 2,
   "metadata": {},
   "outputs": [
    {
     "name": "stdout",
     "output_type": "stream",
     "text": [
      "\n"
     ]
    }
   ],
   "source": [
    "import db\n",
    "import shell\n",
    "\n",
    "from importlib import reload\n",
    "reload(db)\n",
    "reload(shell)\n",
    "print()\n"
   ]
  },
  {
   "cell_type": "code",
   "execution_count": 3,
   "metadata": {},
   "outputs": [],
   "source": [
    "database = db.ReservationDB()\n",
    "database.load_data(\"test_reservation_data.json\")\n"
   ]
  },
  {
   "cell_type": "code",
   "execution_count": 4,
   "metadata": {},
   "outputs": [
    {
     "data": {
      "text/plain": [
       "{'WDXDIC': {'passenger_name': 'John Doe',\n",
       "  'flight_number': 'AA311',\n",
       "  'reservation_code': 'WDXDIC',\n",
       "  'ticket_type': 'General',\n",
       "  'seat': '11-A'},\n",
       " 'ACIWMY': {'passenger_name': 'Chris Knight',\n",
       "  'flight_number': 'AA311',\n",
       "  'reservation_code': 'ACIWMY',\n",
       "  'ticket_type': 'General',\n",
       "  'seat': '13-D'}}"
      ]
     },
     "execution_count": 4,
     "metadata": {},
     "output_type": "execute_result"
    }
   ],
   "source": [
    "database.lookup_flight('AA311')\n"
   ]
  },
  {
   "cell_type": "code",
   "execution_count": 5,
   "metadata": {},
   "outputs": [],
   "source": [
    "shell = shell.ReservationShell(database)\n"
   ]
  },
  {
   "cell_type": "code",
   "execution_count": 7,
   "metadata": {},
   "outputs": [
    {
     "name": "stdout",
     "output_type": "stream",
     "text": [
      "Welcome to the reservation shell.   Type help or ? to list commands.\n",
      "\n"
     ]
    }
   ],
   "source": [
    "#shell.cmdloop()\n"
   ]
  }
 ],
 "metadata": {
  "kernelspec": {
   "display_name": "Python 3",
   "language": "python",
   "name": "python3"
  },
  "language_info": {
   "codemirror_mode": {
    "name": "ipython",
    "version": 3
   },
   "file_extension": ".py",
   "mimetype": "text/x-python",
   "name": "python",
   "nbconvert_exporter": "python",
   "pygments_lexer": "ipython3",
   "version": "3.10.12"
  }
 },
 "nbformat": 4,
 "nbformat_minor": 2
}
